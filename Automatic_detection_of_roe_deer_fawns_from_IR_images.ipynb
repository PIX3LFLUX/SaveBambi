{
  "nbformat": 4,
  "nbformat_minor": 0,
  "metadata": {
    "colab": {
      "name": "Automatic detection of roe deer fawns from IR images.ipynb",
      "provenance": [],
      "collapsed_sections": []
    },
    "kernelspec": {
      "name": "python3",
      "display_name": "Python 3"
    },
    "accelerator": "GPU"
  },
  "cells": [
    {
      "cell_type": "markdown",
      "metadata": {
        "id": "I9u-arhIq6Wf"
      },
      "source": [
        "\r\n",
        "The aim of this project is to detect presence of animals in thermal images and if found localize their position in the box using bounding boxes"
      ]
    },
    {
      "cell_type": "markdown",
      "metadata": {
        "id": "wQAYC7VNuB88"
      },
      "source": [
        "**Installation of Tensorflow API**\r\n",
        "This project uses Tensorflow Object detection API.Please run the following cells sequentially to install the necessary dependencies."
      ]
    },
    {
      "cell_type": "code",
      "metadata": {
        "id": "yLI1-MjBuaKv",
        "colab": {
          "base_uri": "https://localhost:8080/"
        },
        "outputId": "96c36c83-99a8-4d76-bb33-820b657f7563"
      },
      "source": [
        "#Install Tensorflow \r\n",
        "!pip install -U --pre tensorflow==\"2.*\" --quiet\r\n",
        "!pip install tf_slim --quiet\r\n",
        "\r\n",
        "!pip install pycocotools --quiet"
      ],
      "execution_count": 1,
      "outputs": [
        {
          "output_type": "stream",
          "text": [
            "\u001b[?25l\r\u001b[K     |█                               | 10kB 23.9MB/s eta 0:00:01\r\u001b[K     |█▉                              | 20kB 30.9MB/s eta 0:00:01\r\u001b[K     |██▉                             | 30kB 26.6MB/s eta 0:00:01\r\u001b[K     |███▊                            | 40kB 19.3MB/s eta 0:00:01\r\u001b[K     |████▋                           | 51kB 16.6MB/s eta 0:00:01\r\u001b[K     |█████▋                          | 61kB 15.2MB/s eta 0:00:01\r\u001b[K     |██████▌                         | 71kB 16.8MB/s eta 0:00:01\r\u001b[K     |███████▌                        | 81kB 16.4MB/s eta 0:00:01\r\u001b[K     |████████▍                       | 92kB 16.2MB/s eta 0:00:01\r\u001b[K     |█████████▎                      | 102kB 17.3MB/s eta 0:00:01\r\u001b[K     |██████████▎                     | 112kB 17.3MB/s eta 0:00:01\r\u001b[K     |███████████▏                    | 122kB 17.3MB/s eta 0:00:01\r\u001b[K     |████████████                    | 133kB 17.3MB/s eta 0:00:01\r\u001b[K     |█████████████                   | 143kB 17.3MB/s eta 0:00:01\r\u001b[K     |██████████████                  | 153kB 17.3MB/s eta 0:00:01\r\u001b[K     |███████████████                 | 163kB 17.3MB/s eta 0:00:01\r\u001b[K     |███████████████▉                | 174kB 17.3MB/s eta 0:00:01\r\u001b[K     |████████████████▊               | 184kB 17.3MB/s eta 0:00:01\r\u001b[K     |█████████████████▊              | 194kB 17.3MB/s eta 0:00:01\r\u001b[K     |██████████████████▋             | 204kB 17.3MB/s eta 0:00:01\r\u001b[K     |███████████████████▌            | 215kB 17.3MB/s eta 0:00:01\r\u001b[K     |████████████████████▌           | 225kB 17.3MB/s eta 0:00:01\r\u001b[K     |█████████████████████▍          | 235kB 17.3MB/s eta 0:00:01\r\u001b[K     |██████████████████████▍         | 245kB 17.3MB/s eta 0:00:01\r\u001b[K     |███████████████████████▎        | 256kB 17.3MB/s eta 0:00:01\r\u001b[K     |████████████████████████▏       | 266kB 17.3MB/s eta 0:00:01\r\u001b[K     |█████████████████████████▏      | 276kB 17.3MB/s eta 0:00:01\r\u001b[K     |██████████████████████████      | 286kB 17.3MB/s eta 0:00:01\r\u001b[K     |███████████████████████████     | 296kB 17.3MB/s eta 0:00:01\r\u001b[K     |████████████████████████████    | 307kB 17.3MB/s eta 0:00:01\r\u001b[K     |████████████████████████████▉   | 317kB 17.3MB/s eta 0:00:01\r\u001b[K     |█████████████████████████████▉  | 327kB 17.3MB/s eta 0:00:01\r\u001b[K     |██████████████████████████████▊ | 337kB 17.3MB/s eta 0:00:01\r\u001b[K     |███████████████████████████████▋| 348kB 17.3MB/s eta 0:00:01\r\u001b[K     |████████████████████████████████| 358kB 17.3MB/s \n",
            "\u001b[?25h"
          ],
          "name": "stdout"
        }
      ]
    },
    {
      "cell_type": "code",
      "metadata": {
        "colab": {
          "base_uri": "https://localhost:8080/"
        },
        "id": "zwdRpL8XU35J",
        "outputId": "5b5674b9-3549-4337-d751-0685c3aaaf5a"
      },
      "source": [
        "\n",
        "#Optional - run below command if you are using Google colab\n",
        "from google.colab import drive\n",
        "drive.mount('/content/drive')"
      ],
      "execution_count": 2,
      "outputs": [
        {
          "output_type": "stream",
          "text": [
            "Mounted at /content/drive\n"
          ],
          "name": "stdout"
        }
      ]
    },
    {
      "cell_type": "code",
      "metadata": {
        "colab": {
          "base_uri": "https://localhost:8080/"
        },
        "id": "0afOLgcIUKDr",
        "outputId": "3d620b66-a553-4039-8b7b-88f640e82aff"
      },
      "source": [
        "#Install Tensorflow Object Detection API\r\n",
        "import os\r\n",
        "import pathlib\r\n",
        "import sys\r\n",
        "import tensorflow as tf\r\n",
        "\r\n",
        "#Please note that following commands downloads the models folder from tensorflow if not already present\r\n",
        "if \"models\" in pathlib.Path.cwd().parts:\r\n",
        "  while \"models\" in pathlib.Path.cwd().parts:\r\n",
        "    os.chdir('..')\r\n",
        "elif not pathlib.Path('models').exists():\r\n",
        "  !git clone --depth 1 https://github.com/tensorflow/models\r\n",
        "\r\n",
        "\r\n",
        "#Protocol buffers are Google's language-neutral, platform-neutral, extensible mechanism for serializing structured data.\r\n",
        "# Use the below command to install the Protobuf if not already installed\r\n",
        "!apt-get install protobuf-compiler python-lxml python-pil\r\n",
        "!pip install Cython pandas tf-slim\r\n",
        "\r\n",
        "#When running locally, the ObjectDetection/models/research/ and slim directories should be appended to PYTHONPATH.\r\n",
        "os.environ['PYTHONPATH']+=\":/models\"\r\n",
        "sys.path.append(\"/models/research\")\r\n",
        "\r\n",
        "\r\n",
        "#When running locally, the ObjectDetection/models/research/ and slim directories should be appended to PYTHONPATH.\r\n",
        "os.environ['PYTHONPATH'] += ':/content/models/research/:/content/models/research/slim/ :/content/models/:/content/models/official/'\r\n",
        "\r\n",
        "#Compiling protocol buffers\r\n",
        "os.chdir('models/research')\r\n",
        "!protoc object_detection/protos/*.proto --python_out=.\r\n",
        "\r\n",
        "#Testing the installation\r\n",
        "!python object_detection/builders/model_builder_test.py"
      ],
      "execution_count": 5,
      "outputs": [
        {
          "output_type": "stream",
          "text": [
            "Reading package lists... Done\n",
            "Building dependency tree       \n",
            "Reading state information... Done\n",
            "protobuf-compiler is already the newest version (3.0.0-9.1ubuntu1).\n",
            "The following additional packages will be installed:\n",
            "  python-bs4 python-chardet python-html5lib python-olefile\n",
            "  python-pkg-resources python-six python-webencodings\n",
            "Suggested packages:\n",
            "  python-genshi python-lxml-dbg python-lxml-doc python-pil-doc python-pil-dbg\n",
            "  python-setuptools\n",
            "The following NEW packages will be installed:\n",
            "  python-bs4 python-chardet python-html5lib python-lxml python-olefile\n",
            "  python-pil python-pkg-resources python-six python-webencodings\n",
            "0 upgraded, 9 newly installed, 0 to remove and 29 not upgraded.\n",
            "Need to get 301 kB/1,615 kB of archives.\n",
            "After this operation, 8,907 kB of additional disk space will be used.\n",
            "Ign:1 http://archive.ubuntu.com/ubuntu bionic-updates/main amd64 python-pil amd64 5.1.0-1ubuntu0.4\n",
            "Err:1 http://security.ubuntu.com/ubuntu bionic-updates/main amd64 python-pil amd64 5.1.0-1ubuntu0.4\n",
            "  404  Not Found [IP: 91.189.88.142 80]\n",
            "E: Failed to fetch http://security.ubuntu.com/ubuntu/pool/main/p/pillow/python-pil_5.1.0-1ubuntu0.4_amd64.deb  404  Not Found [IP: 91.189.88.142 80]\n",
            "E: Unable to fetch some archives, maybe run apt-get update or try with --fix-missing?\n",
            "Requirement already satisfied: Cython in /usr/local/lib/python3.7/dist-packages (0.29.22)\n",
            "Requirement already satisfied: pandas in /usr/local/lib/python3.7/dist-packages (1.1.5)\n",
            "Requirement already satisfied: tf-slim in /usr/local/lib/python3.7/dist-packages (1.1.0)\n",
            "Requirement already satisfied: python-dateutil>=2.7.3 in /usr/local/lib/python3.7/dist-packages (from pandas) (2.8.1)\n",
            "Requirement already satisfied: numpy>=1.15.4 in /usr/local/lib/python3.7/dist-packages (from pandas) (1.19.5)\n",
            "Requirement already satisfied: pytz>=2017.2 in /usr/local/lib/python3.7/dist-packages (from pandas) (2018.9)\n",
            "Requirement already satisfied: absl-py>=0.2.2 in /usr/local/lib/python3.7/dist-packages (from tf-slim) (0.10.0)\n",
            "Requirement already satisfied: six>=1.5 in /usr/local/lib/python3.7/dist-packages (from python-dateutil>=2.7.3->pandas) (1.15.0)\n",
            "2021-03-18 07:27:33.193715: I tensorflow/stream_executor/platform/default/dso_loader.cc:49] Successfully opened dynamic library libcudart.so.11.0\n"
          ],
          "name": "stdout"
        }
      ]
    },
    {
      "cell_type": "markdown",
      "metadata": {
        "id": "woArR1Vx6hnE"
      },
      "source": [
        "Importing the Libraries needed"
      ]
    },
    {
      "cell_type": "markdown",
      "metadata": {
        "id": "_AItclNQUxQ2"
      },
      "source": [
        "Call the main function as:\r\n",
        "\r\n",
        "!python main.py --path_to_input_video --path_to_ouput_video --path_to_saved_model --debug\r\n",
        "\r\n",
        "Here path_to_saved_model\r\n",
        "\r\n",
        "*  path_to_input_video - the path to the input video on which detection of animals have to be done\r\n",
        "*   path_to_ouput_video -the path to where output video has to be stored\r\n",
        "*   path_to_saved_model -the path to saved ML model to be used\r\n",
        "*   path_to_labelmap - the path to the label map used for detection( with classification labels)\r\n",
        "*   debug -debug flag(optional)\r\n",
        "\r\n",
        "\r\n",
        "\r\n",
        "\r\n",
        "\r\n"
      ]
    },
    {
      "cell_type": "code",
      "metadata": {
        "colab": {
          "base_uri": "https://localhost:8080/"
        },
        "id": "98bP7CKeXMW9",
        "outputId": "b831f118-ecf9-459b-c5d2-1b9cc1b76754"
      },
      "source": [
        "#change directory to where you have downloaded the repo\r\n",
        "%cd '/content/drive/MyDrive/SaveBambi'\r\n"
      ],
      "execution_count": 23,
      "outputs": [
        {
          "output_type": "stream",
          "text": [
            "/content/drive/MyDrive/SaveBambi\n"
          ],
          "name": "stdout"
        }
      ]
    },
    {
      "cell_type": "code",
      "metadata": {
        "id": "Q5mFKTkuWGpG",
        "colab": {
          "base_uri": "https://localhost:8080/"
        },
        "outputId": "a62ba8a9-9068-44fe-b886-ef198dc2f0be"
      },
      "source": [
        "!python SaveBambi.py --path_to_input_video='/content/drive/MyDrive/Rehkitze5.mp4' --path_to_output_video='/content/TestVideoOutput.avi' --path_to_labelmap='/content/drive/MyDrive/SaveBambi/TrainedModel/label_map.pbtxt'  --path_to_saved_model='/content/drive/MyDrive/SaveBambi/TrainedModel/saved_model/'  "
      ],
      "execution_count": 77,
      "outputs": [
        {
          "output_type": "stream",
          "text": [
            "2021-03-18 11:14:57.753094: I tensorflow/stream_executor/platform/default/dso_loader.cc:49] Successfully opened dynamic library libcudart.so.11.0\n",
            "2021-03-18 11:14:59.674483: I tensorflow/compiler/jit/xla_cpu_device.cc:41] Not creating XLA devices, tf_xla_enable_xla_devices not set\n",
            "2021-03-18 11:14:59.675332: I tensorflow/stream_executor/platform/default/dso_loader.cc:49] Successfully opened dynamic library libcuda.so.1\n",
            "2021-03-18 11:14:59.690302: I tensorflow/stream_executor/cuda/cuda_gpu_executor.cc:941] successful NUMA node read from SysFS had negative value (-1), but there must be at least one NUMA node, so returning NUMA node zero\n",
            "2021-03-18 11:14:59.692776: I tensorflow/core/common_runtime/gpu/gpu_device.cc:1720] Found device 0 with properties: \n",
            "pciBusID: 0000:00:04.0 name: Tesla P100-PCIE-16GB computeCapability: 6.0\n",
            "coreClock: 1.3285GHz coreCount: 56 deviceMemorySize: 15.90GiB deviceMemoryBandwidth: 681.88GiB/s\n",
            "2021-03-18 11:14:59.692958: I tensorflow/stream_executor/platform/default/dso_loader.cc:49] Successfully opened dynamic library libcudart.so.11.0\n",
            "2021-03-18 11:14:59.699433: I tensorflow/stream_executor/platform/default/dso_loader.cc:49] Successfully opened dynamic library libcublas.so.11\n",
            "2021-03-18 11:14:59.699555: I tensorflow/stream_executor/platform/default/dso_loader.cc:49] Successfully opened dynamic library libcublasLt.so.11\n",
            "2021-03-18 11:14:59.701503: I tensorflow/stream_executor/platform/default/dso_loader.cc:49] Successfully opened dynamic library libcufft.so.10\n",
            "2021-03-18 11:14:59.701942: I tensorflow/stream_executor/platform/default/dso_loader.cc:49] Successfully opened dynamic library libcurand.so.10\n",
            "2021-03-18 11:14:59.704079: I tensorflow/stream_executor/platform/default/dso_loader.cc:49] Successfully opened dynamic library libcusolver.so.10\n",
            "2021-03-18 11:14:59.705021: I tensorflow/stream_executor/platform/default/dso_loader.cc:49] Successfully opened dynamic library libcusparse.so.11\n",
            "2021-03-18 11:14:59.705322: I tensorflow/stream_executor/platform/default/dso_loader.cc:49] Successfully opened dynamic library libcudnn.so.8\n",
            "2021-03-18 11:14:59.705461: I tensorflow/stream_executor/cuda/cuda_gpu_executor.cc:941] successful NUMA node read from SysFS had negative value (-1), but there must be at least one NUMA node, so returning NUMA node zero\n",
            "2021-03-18 11:14:59.706319: I tensorflow/stream_executor/cuda/cuda_gpu_executor.cc:941] successful NUMA node read from SysFS had negative value (-1), but there must be at least one NUMA node, so returning NUMA node zero\n",
            "2021-03-18 11:14:59.707036: I tensorflow/core/common_runtime/gpu/gpu_device.cc:1862] Adding visible gpu devices: 0\n",
            "2021-03-18 11:14:59.707347: I tensorflow/core/platform/cpu_feature_guard.cc:142] This TensorFlow binary is optimized with oneAPI Deep Neural Network Library (oneDNN) to use the following CPU instructions in performance-critical operations:  AVX512F\n",
            "To enable them in other operations, rebuild TensorFlow with the appropriate compiler flags.\n",
            "2021-03-18 11:14:59.707479: I tensorflow/compiler/jit/xla_gpu_device.cc:99] Not creating XLA devices, tf_xla_enable_xla_devices not set\n",
            "2021-03-18 11:14:59.707613: I tensorflow/stream_executor/cuda/cuda_gpu_executor.cc:941] successful NUMA node read from SysFS had negative value (-1), but there must be at least one NUMA node, so returning NUMA node zero\n",
            "2021-03-18 11:14:59.708239: I tensorflow/core/common_runtime/gpu/gpu_device.cc:1720] Found device 0 with properties: \n",
            "pciBusID: 0000:00:04.0 name: Tesla P100-PCIE-16GB computeCapability: 6.0\n",
            "coreClock: 1.3285GHz coreCount: 56 deviceMemorySize: 15.90GiB deviceMemoryBandwidth: 681.88GiB/s\n",
            "2021-03-18 11:14:59.708285: I tensorflow/stream_executor/platform/default/dso_loader.cc:49] Successfully opened dynamic library libcudart.so.11.0\n",
            "2021-03-18 11:14:59.708316: I tensorflow/stream_executor/platform/default/dso_loader.cc:49] Successfully opened dynamic library libcublas.so.11\n",
            "2021-03-18 11:14:59.708342: I tensorflow/stream_executor/platform/default/dso_loader.cc:49] Successfully opened dynamic library libcublasLt.so.11\n",
            "2021-03-18 11:14:59.708367: I tensorflow/stream_executor/platform/default/dso_loader.cc:49] Successfully opened dynamic library libcufft.so.10\n",
            "2021-03-18 11:14:59.708386: I tensorflow/stream_executor/platform/default/dso_loader.cc:49] Successfully opened dynamic library libcurand.so.10\n",
            "2021-03-18 11:14:59.708409: I tensorflow/stream_executor/platform/default/dso_loader.cc:49] Successfully opened dynamic library libcusolver.so.10\n",
            "2021-03-18 11:14:59.708430: I tensorflow/stream_executor/platform/default/dso_loader.cc:49] Successfully opened dynamic library libcusparse.so.11\n",
            "2021-03-18 11:14:59.708452: I tensorflow/stream_executor/platform/default/dso_loader.cc:49] Successfully opened dynamic library libcudnn.so.8\n",
            "2021-03-18 11:14:59.708544: I tensorflow/stream_executor/cuda/cuda_gpu_executor.cc:941] successful NUMA node read from SysFS had negative value (-1), but there must be at least one NUMA node, so returning NUMA node zero\n",
            "2021-03-18 11:14:59.709250: I tensorflow/stream_executor/cuda/cuda_gpu_executor.cc:941] successful NUMA node read from SysFS had negative value (-1), but there must be at least one NUMA node, so returning NUMA node zero\n",
            "2021-03-18 11:14:59.709779: I tensorflow/core/common_runtime/gpu/gpu_device.cc:1862] Adding visible gpu devices: 0\n",
            "2021-03-18 11:14:59.709835: I tensorflow/stream_executor/platform/default/dso_loader.cc:49] Successfully opened dynamic library libcudart.so.11.0\n",
            "2021-03-18 11:15:00.191660: I tensorflow/core/common_runtime/gpu/gpu_device.cc:1261] Device interconnect StreamExecutor with strength 1 edge matrix:\n",
            "2021-03-18 11:15:00.191715: I tensorflow/core/common_runtime/gpu/gpu_device.cc:1267]      0 \n",
            "2021-03-18 11:15:00.191732: I tensorflow/core/common_runtime/gpu/gpu_device.cc:1280] 0:   N \n",
            "2021-03-18 11:15:00.191926: I tensorflow/stream_executor/cuda/cuda_gpu_executor.cc:941] successful NUMA node read from SysFS had negative value (-1), but there must be at least one NUMA node, so returning NUMA node zero\n",
            "2021-03-18 11:15:00.192573: I tensorflow/stream_executor/cuda/cuda_gpu_executor.cc:941] successful NUMA node read from SysFS had negative value (-1), but there must be at least one NUMA node, so returning NUMA node zero\n",
            "2021-03-18 11:15:00.193150: I tensorflow/stream_executor/cuda/cuda_gpu_executor.cc:941] successful NUMA node read from SysFS had negative value (-1), but there must be at least one NUMA node, so returning NUMA node zero\n",
            "2021-03-18 11:15:00.193662: W tensorflow/core/common_runtime/gpu/gpu_bfc_allocator.cc:39] Overriding allow_growth setting because the TF_FORCE_GPU_ALLOW_GROWTH environment variable is set. Original config value was 0.\n",
            "2021-03-18 11:15:00.193714: I tensorflow/core/common_runtime/gpu/gpu_device.cc:1406] Created TensorFlow device (/job:localhost/replica:0/task:0/device:GPU:0 with 14975 MB memory) -> physical GPU (device: 0, name: Tesla P100-PCIE-16GB, pci bus id: 0000:00:04.0, compute capability: 6.0)\n",
            "<tensorflow.python.saved_model.load.Loader._recreate_base_user_object.<locals>._UserObject object at 0x7fa114500750>\n",
            "Video opened- Processing Started\n",
            "2021-03-18 11:15:13.821665: I tensorflow/compiler/mlir/mlir_graph_optimization_pass.cc:116] None of the MLIR optimization passes are enabled (registered 2)\n",
            "2021-03-18 11:15:13.912639: I tensorflow/core/platform/profile_utils/cpu_utils.cc:112] CPU Frequency: 2000170000 Hz\n",
            "2021-03-18 11:15:15.027830: I tensorflow/stream_executor/platform/default/dso_loader.cc:49] Successfully opened dynamic library libcublas.so.11\n",
            "2021-03-18 11:15:15.253702: I tensorflow/stream_executor/platform/default/dso_loader.cc:49] Successfully opened dynamic library libcublasLt.so.11\n",
            "2021-03-18 11:15:15.265015: I tensorflow/stream_executor/platform/default/dso_loader.cc:49] Successfully opened dynamic library libcudnn.so.8\n",
            "Done!\n"
          ],
          "name": "stdout"
        }
      ]
    },
    {
      "cell_type": "code",
      "metadata": {
        "id": "c2_Zj-6dWO5v"
      },
      "source": [
        ""
      ],
      "execution_count": null,
      "outputs": []
    }
  ]
}